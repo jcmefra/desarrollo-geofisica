{
  "cells": [
    {
      "cell_type": "code",
      "execution_count": null,
      "metadata": {
        "collapsed": false
      },
      "outputs": [],
      "source": [
        "# Checkout www.pygimli.org for more examples"
      ]
    },
    {
      "cell_type": "markdown",
      "metadata": {},
      "source": [
        "\n# VES inversion for a blocky model\n\nThis tutorial shows how an built-in forward operator is used for inversion.\nA DC 1D (VES) modelling is used to generate data, noisify and invert them.\n"
      ]
    },
    {
      "cell_type": "markdown",
      "metadata": {},
      "source": [
        "We import numpy, matplotlib and the 1D plotting function\n\n"
      ]
    },
    {
      "cell_type": "code",
      "execution_count": null,
      "metadata": {
        "collapsed": false
      },
      "outputs": [],
      "source": [
        "import numpy as np\nimport pygimli as pg\nfrom pygimli.physics import VESManager"
      ]
    },
    {
      "cell_type": "markdown",
      "metadata": {},
      "source": [
        "some definitions before (model, data and error)\n\n"
      ]
    },
    {
      "cell_type": "code",
      "execution_count": null,
      "metadata": {
        "collapsed": false
      },
      "outputs": [],
      "source": [
        "ab2 = np.logspace(-0.5, 2.5, 40)  # AB/2 distance (current electrodes)"
      ]
    },
    {
      "cell_type": "markdown",
      "metadata": {},
      "source": [
        "define a synthetic model and do a forward simulatin including noise\n\n"
      ]
    },
    {
      "cell_type": "code",
      "execution_count": null,
      "metadata": {
        "collapsed": false
      },
      "outputs": [],
      "source": [
        "synres = [100., 500., 30., 800.]  # synthetic resistivity\nsynthk = [0.5, 3.5, 6.]  # synthetic thickness (nlay-th layer is infinite)"
      ]
    },
    {
      "cell_type": "markdown",
      "metadata": {},
      "source": [
        "the forward operator can be called by f.response(model) or simply f(model)\n\n"
      ]
    },
    {
      "cell_type": "code",
      "execution_count": null,
      "metadata": {
        "collapsed": false
      },
      "outputs": [],
      "source": [
        "synthModel = synthk + synres  # concatenate thickness and resistivity\nves = VESManager()\nrhoa, err = ves.simulate(synthModel, ab2=ab2, mn2=ab2/3,\n                         noiseLevel=0.03, seed=1337)"
      ]
    },
    {
      "cell_type": "code",
      "execution_count": null,
      "metadata": {
        "collapsed": false
      },
      "outputs": [],
      "source": [
        "ves.invert(data=rhoa, error=err, ab2=ab2, mn2=ab2/3,\n           nLayers=4,\n           # startModel=[3]*3+[100]*4,\n           lam=1000, lambdaFactor=0.8\n           )"
      ]
    },
    {
      "cell_type": "markdown",
      "metadata": {},
      "source": [
        "show estimated&synthetic models and data with model response in 2 subplots\n\n"
      ]
    },
    {
      "cell_type": "code",
      "execution_count": null,
      "metadata": {
        "collapsed": false
      },
      "outputs": [],
      "source": [
        "fig, ax = pg.plt.subplots(ncols=2, figsize=(8, 6))  # two-column figure\nves.showModel(synthModel, ax=ax[0], label=\"synth\", plot=\"semilogy\", zmax=20)\nves.showModel(ves.model, ax=ax[0], label=\"model\", zmax=20)\nves.showData(rhoa, ax=ax[1], label=\"data\", color=\"C0\", marker=\"x\")\nves.showData(ves.inv.response, ax=ax[1], label=\"response\", color=\"C1\")"
      ]
    }
  ],
  "metadata": {
    "kernelspec": {
      "display_name": "Python 3",
      "language": "python",
      "name": "python3"
    },
    "language_info": {
      "codemirror_mode": {
        "name": "ipython",
        "version": 3
      },
      "file_extension": ".py",
      "mimetype": "text/x-python",
      "name": "python",
      "nbconvert_exporter": "python",
      "pygments_lexer": "ipython3",
      "version": "3.8.10"
    }
  },
  "nbformat": 4,
  "nbformat_minor": 0
}